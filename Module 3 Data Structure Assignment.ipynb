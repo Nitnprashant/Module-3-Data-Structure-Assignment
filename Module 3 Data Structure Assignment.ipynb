{
 "cells": [
  {
   "cell_type": "markdown",
   "id": "d06fea14-f776-40ca-9bd8-be0e5a2e383f",
   "metadata": {},
   "source": [
    "# Ques 1. Discuss string slicing and provide examples."
   ]
  },
  {
   "cell_type": "markdown",
   "id": "5cfcfa25-5324-4892-859a-b310b3ec56c4",
   "metadata": {},
   "source": [
    "### Ans 1. String slicing is a technique used to extract a subset of characters from a string. It allows you to retrieve a portion of a string by specifying the start and end indices.\n",
    "\n",
    "## Syntax:\n",
    "\n",
    "### string[start:end]\n",
    "\n",
    "### Where:\n",
    "\n",
    "### - start is the index where the slice starts (inclusive)\n",
    "### - end is the index where the slice ends (exclusive)"
   ]
  },
  {
   "cell_type": "code",
   "execution_count": 2,
   "id": "4804841f-7d45-4d7b-a5b5-b37249b9c23b",
   "metadata": {},
   "outputs": [
    {
     "name": "stdout",
     "output_type": "stream",
     "text": [
      "hello\n"
     ]
    }
   ],
   "source": [
    "### Examples:\n",
    "\n",
    "my_string = \"hello world\";\n",
    "print(my_string[0:5])"
   ]
  },
  {
   "cell_type": "code",
   "execution_count": 3,
   "id": "3216a58b-cbff-48ac-bf2e-c11f854ba60d",
   "metadata": {},
   "outputs": [
    {
     "name": "stdout",
     "output_type": "stream",
     "text": [
      "world\n"
     ]
    }
   ],
   "source": [
    "print(my_string[6:])"
   ]
  },
  {
   "cell_type": "code",
   "execution_count": 4,
   "id": "59acec6d-0706-4377-b6a9-ccc0dc8d62e1",
   "metadata": {},
   "outputs": [
    {
     "name": "stdout",
     "output_type": "stream",
     "text": [
      "hello\n"
     ]
    }
   ],
   "source": [
    "print(my_string[:5])"
   ]
  },
  {
   "cell_type": "code",
   "execution_count": 5,
   "id": "704869b4-7829-48b1-8c8b-a65987cdc7f9",
   "metadata": {},
   "outputs": [
    {
     "name": "stdout",
     "output_type": "stream",
     "text": [
      "world\n"
     ]
    }
   ],
   "source": [
    "print(my_string[-5:]) "
   ]
  },
  {
   "cell_type": "code",
   "execution_count": 6,
   "id": "2277adb7-cc3a-4ce5-bc0b-ac9466cc5562",
   "metadata": {},
   "outputs": [
    {
     "name": "stdout",
     "output_type": "stream",
     "text": [
      "hlowrd\n"
     ]
    }
   ],
   "source": [
    "print(my_string[::2])"
   ]
  },
  {
   "cell_type": "markdown",
   "id": "865e0e25-ffdc-4806-85d0-00166531b359",
   "metadata": {},
   "source": [
    "### Note:\n",
    "\n",
    "### - Negative indices count from the end of the string.\n",
    "### - Omitting start or end will start from the beginning or go to the end of the string, respectively.\n",
    "### - The step value (default is 1) can be specified to skip characters."
   ]
  },
  {
   "cell_type": "markdown",
   "id": "4d54b93a-6dfe-4ef9-bc81-bae3a8d9e2d3",
   "metadata": {},
   "source": [
    "# Ques 2. Explain the key features of lists in Python."
   ]
  },
  {
   "cell_type": "markdown",
   "id": "90186acc-818f-4dd0-b297-f739ecc861a4",
   "metadata": {},
   "source": [
    "### Ans 2. Lists in Python are a versatile data structure that offer a range of key features, including:\n",
    "\n",
    "### 1. Ordered: Lists maintain the order in which elements are inserted.\n",
    "\n",
    "### 2. Mutable: Lists can be modified after creation.\n",
    "\n",
    "### 3. Indexed: Lists are indexed, making it easy to access and manipulate elements.\n",
    "\n",
    "### 4. Dynamic: Lists can grow or shrink dynamically as elements are added or removed.\n",
    "\n",
    "### 5. Heterogeneous: Lists can store elements of different data types.\n",
    "\n",
    "### 6. Iterable: Lists can be iterated over using loops.\n",
    "\n",
    "### 7. Supports various methods: Lists have built-in methods like append, extend, insert, remove, pop, index, count, sort, and reverse.\n",
    "\n",
    "### 8. Supports slicing: Lists can be sliced to extract subsets of elements.\n",
    "\n",
    "### 9. Supports nesting: Lists can contain other lists (nested lists).\n",
    "\n",
    "### 10. Memory-efficient: Lists are memory-efficient since they store references to objects, not the objects themselves.\n",
    "\n",
    "### Some examples of list methods:\n",
    "\n",
    "### - append(element): Adds an element to the end of the list.\n",
    "### - extend(iterable): Adds all elements from an iterable to the list.\n",
    "### - insert(index, element): Inserts an element at a specified position.\n",
    "### - remove(element): Removes the first occurrence of an element.\n",
    "### - pop(index): Removes and returns an element at a specified position.\n",
    "\n",
    "### These features make lists a powerful and flexible data structure in Python, suitable for a wide range of applications."
   ]
  },
  {
   "cell_type": "markdown",
   "id": "d4e26a90-1069-41b5-b978-0a662a4bc52e",
   "metadata": {},
   "source": [
    "# Ques 3. Describe how to access modify, and delete elements in a list with examples.\n",
    "\n",
    "### Ans 3. Here's how to access, modify, and delete elements in a list:\n",
    "\n",
    "### Accessing Elements\n",
    "\n",
    "### - Indexing: list[index]\n",
    "### - Negative indexing: list[-index] (starts from the end)\n",
    "### - Slicing: list[start:stop:step]\n",
    "\n",
    "### Examples:"
   ]
  },
  {
   "cell_type": "code",
   "execution_count": 10,
   "id": "587f5c07-e4e5-40ec-b367-415a3e434c1c",
   "metadata": {},
   "outputs": [
    {
     "name": "stdout",
     "output_type": "stream",
     "text": [
      "1\n"
     ]
    }
   ],
   "source": [
    "my_list = [1, 2, 3, 4, 5]\n",
    "print(my_list[0])"
   ]
  },
  {
   "cell_type": "code",
   "execution_count": 11,
   "id": "a8426c8c-c4d5-4b13-aab3-06e2f841e8cd",
   "metadata": {},
   "outputs": [
    {
     "name": "stdout",
     "output_type": "stream",
     "text": [
      "5\n",
      "[2, 3]\n"
     ]
    }
   ],
   "source": [
    "print(my_list[-1])\n",
    "print(my_list[1:3])"
   ]
  },
  {
   "cell_type": "markdown",
   "id": "f25b6390-b602-49d1-9284-679c55b30edf",
   "metadata": {},
   "source": [
    "### Modifying Elements\n",
    "\n",
    "### - Assignment: list[index] = new_value\n",
    "### - Append: list.append(element)\n",
    "### - Extend: list.extend(iterable)\n",
    "### - Insert: list.insert(index, element)\n",
    "\n",
    "### Examples:"
   ]
  },
  {
   "cell_type": "code",
   "execution_count": 12,
   "id": "1b3643df-4093-483d-b3d9-054fef2787ec",
   "metadata": {},
   "outputs": [],
   "source": [
    "my_list = [1, 2, 3, 4, 5]\n",
    "my_list[0] = 10"
   ]
  },
  {
   "cell_type": "code",
   "execution_count": 14,
   "id": "1a22ec5c-508b-40fb-8881-fc0164408e4f",
   "metadata": {},
   "outputs": [
    {
     "name": "stdout",
     "output_type": "stream",
     "text": [
      "[10, 2, 3, 4, 5]\n"
     ]
    }
   ],
   "source": [
    "print(my_list)"
   ]
  },
  {
   "cell_type": "code",
   "execution_count": 18,
   "id": "dc1c240c-c140-44ef-9a0a-8ee715dd54e9",
   "metadata": {},
   "outputs": [
    {
     "name": "stdout",
     "output_type": "stream",
     "text": [
      "[10, 2, 9, 3, 4, 5, 6, 7, 8, 6]\n"
     ]
    }
   ],
   "source": [
    "my_list.append(6)\n",
    "print(my_list)"
   ]
  },
  {
   "cell_type": "code",
   "execution_count": 19,
   "id": "f3445e2c-9490-4e44-ba09-b86fcea7c2ae",
   "metadata": {},
   "outputs": [
    {
     "name": "stdout",
     "output_type": "stream",
     "text": [
      "[10, 2, 9, 3, 4, 5, 6, 7, 8, 6, 7, 8]\n"
     ]
    }
   ],
   "source": [
    "my_list.extend([7, 8])\n",
    "print(my_list)"
   ]
  },
  {
   "cell_type": "code",
   "execution_count": 20,
   "id": "67195c9e-44bd-4d61-a994-0431f3ad88bb",
   "metadata": {},
   "outputs": [
    {
     "name": "stdout",
     "output_type": "stream",
     "text": [
      "[10, 2, 9, 9, 3, 4, 5, 6, 7, 8, 6, 7, 8]\n"
     ]
    }
   ],
   "source": [
    "my_list.insert(2, 9)\n",
    "print(my_list)"
   ]
  },
  {
   "cell_type": "markdown",
   "id": "77895b70-0e73-4a8e-b80a-c3bf6b4683a4",
   "metadata": {},
   "source": [
    "### Deleting Elements\n",
    "\n",
    "### - del statement: del list[index]\n",
    "### - remove() method: list.remove(element)\n",
    "### - pop() method: list.pop(index)\n",
    " \n",
    "### Examples:"
   ]
  },
  {
   "cell_type": "code",
   "execution_count": 22,
   "id": "c5c9ba51-83a7-40e0-9c23-ac1cfa247a5c",
   "metadata": {},
   "outputs": [
    {
     "name": "stdout",
     "output_type": "stream",
     "text": [
      "[2, 3, 4, 5]\n"
     ]
    }
   ],
   "source": [
    "my_list = [1, 2, 3, 4, 5]\n",
    "del my_list[0]\n",
    "print(my_list)"
   ]
  },
  {
   "cell_type": "markdown",
   "id": "08f383c8-97eb-4d59-9f36-23936e268658",
   "metadata": {},
   "source": [
    "# Ques 4. Compare and contrast tuples and lists with examples.\n",
    "\n",
    "### Ans 4. Tuples and lists are both data structures in Python that can store multiple values. However, they have some key differences:\n",
    "\n",
    "## Similarities:\n",
    "\n",
    "### - Both can store multiple values\n",
    "### - Both are iterable\n",
    "### - Both can be indexed and sliced\n",
    "### - Both can be used with len() function to get their length\n",
    "\n",
    "## Differences:\n",
    "\n",
    "### - Immutability: Tuples are immutable, meaning their values cannot be modified after creation. Lists are mutable, meaning their values can be modified after creation.\n",
    "### - Syntax: Tuples use parentheses () and lists use square brackets [].\n",
    "### - Use cases: Tuples are used when data should not be changed, such as when storing constants or database records. Lists are used when data needs to be modified, such as when storing user input or database queries.\n",
    "\n",
    "## Examples:\n",
    "\n",
    "### Tuple:"
   ]
  },
  {
   "cell_type": "code",
   "execution_count": 27,
   "id": "7fd66dfe-b419-4b19-9c7c-31b9eaaaad61",
   "metadata": {},
   "outputs": [
    {
     "ename": "TypeError",
     "evalue": "'tuple' object does not support item assignment",
     "output_type": "error",
     "traceback": [
      "\u001b[1;31m---------------------------------------------------------------------------\u001b[0m",
      "\u001b[1;31mTypeError\u001b[0m                                 Traceback (most recent call last)",
      "Cell \u001b[1;32mIn[27], line 2\u001b[0m\n\u001b[0;32m      1\u001b[0m t \u001b[38;5;241m=\u001b[39m (\u001b[38;5;241m1\u001b[39m, \u001b[38;5;241m2\u001b[39m, \u001b[38;5;241m3\u001b[39m)\n\u001b[1;32m----> 2\u001b[0m \u001b[43mt\u001b[49m\u001b[43m[\u001b[49m\u001b[38;5;241;43m0\u001b[39;49m\u001b[43m]\u001b[49m \u001b[38;5;241m=\u001b[39m \u001b[38;5;241m4\u001b[39m\n",
      "\u001b[1;31mTypeError\u001b[0m: 'tuple' object does not support item assignment"
     ]
    }
   ],
   "source": [
    "t = (1, 2, 3)\n",
    "t[0] = 4"
   ]
  },
  {
   "cell_type": "markdown",
   "id": "4b4155b7-c7e7-4b31-b1e6-202d9ca08b86",
   "metadata": {},
   "source": [
    "### List:"
   ]
  },
  {
   "cell_type": "code",
   "execution_count": 29,
   "id": "4afe0f5f-caaa-4ee6-83bd-466685ff93f5",
   "metadata": {},
   "outputs": [
    {
     "name": "stdout",
     "output_type": "stream",
     "text": [
      "[4, 2, 3]\n"
     ]
    }
   ],
   "source": [
    "l = [1, 2, 3]\n",
    "l[0] = 4\n",
    "print(l)"
   ]
  },
  {
   "cell_type": "markdown",
   "id": "7a6dd285-7ce7-43b8-a661-df93e5f7b844",
   "metadata": {},
   "source": [
    "### In summary, tuples are immutable and used for storing unchanging data, while lists are mutable and used for storing changing data.\n",
    "\n",
    "### Here are some examples that demonstrate the differences:\n",
    "\n",
    "### - Sorting: Lists can be sorted in-place using the sort() method, while tuples must be sorted using the sorted() function, which returns a new tuple.\n",
    "### - Append: Lists have an append() method to add elements, while tuples do not.\n",
    "### - Immutability: Tuples cannot be modified after creation, while lists can.\n",
    "\n",
    "### In general, use tuples when you need an immutable collection of values, and use lists when you need a mutable collection of values."
   ]
  },
  {
   "cell_type": "markdown",
   "id": "8234f3a1-c977-4ede-81e1-8913ecee59b7",
   "metadata": {},
   "source": [
    "# Ques 5. Describe the key features of sets and provide examples of their use.\n",
    "\n",
    "### Ans 5. Sets are a type of data structure in Python that offer the following key features:\n",
    "\n",
    "### 1. Unordered: Sets are unordered collections of unique elements.\n",
    "### 2. Mutable: Sets are mutable, meaning elements can be added or removed.\n",
    "### 3. No Duplicates: Sets automatically remove duplicates.\n",
    "### 4. Fast Membership Testing: Sets provide fast membership testing using the in keyword.\n",
    "### 5. Operations: Sets support various operations like union, intersection, difference, and symmetric difference.\n",
    "\n",
    "## Examples of using sets:"
   ]
  },
  {
   "cell_type": "code",
   "execution_count": 31,
   "id": "981e2318-7431-4025-ad17-6f372d02233f",
   "metadata": {},
   "outputs": [
    {
     "name": "stdout",
     "output_type": "stream",
     "text": [
      "{1, 2, 3, 4, 5, 6}\n"
     ]
    }
   ],
   "source": [
    "my_set = {1, 2, 3, 4, 5} ## creating a set\n",
    "my_set.add(6) ## Adding elements\n",
    "print(my_set)"
   ]
  },
  {
   "cell_type": "code",
   "execution_count": 32,
   "id": "2290caa2-6e2e-425d-b052-14bf3dfd5f99",
   "metadata": {},
   "outputs": [],
   "source": [
    "my_set.remove(4) ## Removing elements"
   ]
  },
  {
   "cell_type": "code",
   "execution_count": 33,
   "id": "5471cd9c-067a-41d6-9ccb-342d9c21062e",
   "metadata": {},
   "outputs": [
    {
     "name": "stdout",
     "output_type": "stream",
     "text": [
      "3 is in the set\n"
     ]
    }
   ],
   "source": [
    "if 3 in my_set: print(\"3 is in the set\") ## Membership testing"
   ]
  },
  {
   "cell_type": "code",
   "execution_count": 34,
   "id": "90fa485e-0c4c-420f-a8b3-531def3b63a9",
   "metadata": {},
   "outputs": [
    {
     "data": {
      "text/plain": [
       "{1, 2, 3, 5, 6, 7}"
      ]
     },
     "execution_count": 34,
     "metadata": {},
     "output_type": "execute_result"
    }
   ],
   "source": [
    "## Set operations:\n",
    "\n",
    "my_set.union([5, 6, 7]) ## Union"
   ]
  },
  {
   "cell_type": "code",
   "execution_count": 35,
   "id": "ab5b8b08-771b-4037-94f5-fb5d619655e0",
   "metadata": {},
   "outputs": [
    {
     "data": {
      "text/plain": [
       "{5, 6}"
      ]
     },
     "execution_count": 35,
     "metadata": {},
     "output_type": "execute_result"
    }
   ],
   "source": [
    "my_set.intersection([4, 5, 6]) ## Intersection"
   ]
  },
  {
   "cell_type": "code",
   "execution_count": 36,
   "id": "55f10dd5-4ce1-4186-8b8e-6d66ca704d0a",
   "metadata": {},
   "outputs": [
    {
     "data": {
      "text/plain": [
       "{1, 2, 3}"
      ]
     },
     "execution_count": 36,
     "metadata": {},
     "output_type": "execute_result"
    }
   ],
   "source": [
    "my_set.difference([5, 6, 7]) ## Difference"
   ]
  },
  {
   "cell_type": "code",
   "execution_count": 37,
   "id": "ee44f2b0-bf1a-4e66-a2d6-7acbfe1faa8e",
   "metadata": {},
   "outputs": [
    {
     "data": {
      "text/plain": [
       "{1, 2, 3, 7}"
      ]
     },
     "execution_count": 37,
     "metadata": {},
     "output_type": "execute_result"
    }
   ],
   "source": [
    "my_set.symmetric_difference([5, 6, 7]) ## Symmetric Difference"
   ]
  },
  {
   "cell_type": "markdown",
   "id": "9c4674f5-4060-4fe3-bcfc-e26da294c7fc",
   "metadata": {},
   "source": [
    "## Use cases for sets:\n",
    "\n",
    "### 1. Data deduplication: Removing duplicates from a collection.\n",
    "### 2. Data validation: Checking if an element is in a set of valid values.\n",
    "### 3. Data analysis: Performing set operations to find commonalities or differences.\n",
    "### 4. Data storage: Storing unique elements in a collection.\n",
    "\n",
    "## Sets are useful when you need to:\n",
    "\n",
    "### - Store unique elements\n",
    "### - Perform fast membership testing\n",
    "### - Use set operations to manipulate data"
   ]
  },
  {
   "cell_type": "markdown",
   "id": "99f88403-5545-46fe-91ed-9d0a21c6b56b",
   "metadata": {},
   "source": [
    "# Ques 6. Discuss the use cases on tuples and sets in Python programming.\n",
    "\n",
    "### Ans 6. Tuples and sets are two fundamental data structures in Python, each with unique features and use cases.\n",
    "\n",
    "##Tuples:\n",
    "\n",
    "### 1. Data storage: Tuples are suitable for storing small, fixed-size collections of data.\n",
    "### 2. Constants: Tuples are often used to store constants or unchanging data.\n",
    "### 3. Database records: Tuples can represent database records or rows.\n",
    "### 4. Function arguments: Tuples can be used as arguments to functions.\n",
    "### 5. Return values: Tuples can be used as return values from functions.\n",
    "### 6. Data validation: Tuples can be used to validate data.\n",
    "\n",
    "## Sets:\n",
    "\n",
    "### 1. Data deduplication: Sets automatically remove duplicates.\n",
    "### 2. Data validation: Sets can be used to validate data.\n",
    "### 3. Data analysis: Sets can be used to perform set operations.\n",
    "### 4. Data storage: Sets can store unique elements.\n",
    "### 5. Membership testing: Sets provide fast membership testing.\n",
    "### 6. Data manipulation: Sets can be used to manipulate data.\n",
    "\n",
    "## Some key differences:\n",
    "\n",
    "### - Tuples are ordered, sets are unordered.\n",
    "### - Tuples are mutable, sets are mutable.\n",
    "### - Tuples have a fixed size, sets can grow or shrink dynamically.\n",
    "\n",
    "## Use tuples when:\n",
    "\n",
    "### - You need to store small, fixed-size collections of data.\n",
    "### - You need to store constants or unchanging data.\n",
    "\n",
    "## Use sets when:\n",
    "\n",
    "### - You need to store unique elements.\n",
    "### - You need to perform set operations.\n",
    "### - You need fast membership testing.\n",
    "\n",
    "### In summary, tuples are suitable for storing small, fixed-size collections of data, while sets are suitable for storing unique elements and performing set operations."
   ]
  },
  {
   "cell_type": "markdown",
   "id": "ff4ac4be-83af-44c9-a1b1-49b2eb8755e1",
   "metadata": {},
   "source": [
    "# Ques 7. Describe how to add, modify, and delete items in a dictionary with examples.\n",
    "\n",
    "### Ans 7. Here's how to add, modify, and delete items in a dictionary:\n",
    "\n",
    "## Adding Items:\n",
    "\n",
    "### - Use the dict[key] = value syntax to add a new key-value pair.\n",
    "### - If the key doesn't exist, it will be created.\n",
    "### - If the key already exists, its value will be updated.\n",
    "\n",
    "## Example:"
   ]
  },
  {
   "cell_type": "code",
   "execution_count": 38,
   "id": "a678efde-3579-4f01-96b4-aa8a519d07f8",
   "metadata": {},
   "outputs": [
    {
     "name": "stdout",
     "output_type": "stream",
     "text": [
      "{'a': 1, 'b': 2, 'c': 3}\n"
     ]
    }
   ],
   "source": [
    "my_dict = {'a': 1, 'b': 2}\n",
    "my_dict['c'] = 3  # Add a new key-value pair\n",
    "print(my_dict)"
   ]
  },
  {
   "cell_type": "markdown",
   "id": "3200c12b-e9dc-4044-aeac-8c59caaa7fa8",
   "metadata": {},
   "source": [
    "## Modifying Items:\n",
    "\n",
    "### - Use the dict[key] = new_value syntax to update the value of an existing key.\n",
    "### - If the key doesn't exist, a KeyError will be raised.\n",
    "\n",
    "## Example:"
   ]
  },
  {
   "cell_type": "code",
   "execution_count": 39,
   "id": "52216f83-51ce-4bbc-8077-a945baa06a78",
   "metadata": {},
   "outputs": [
    {
     "name": "stdout",
     "output_type": "stream",
     "text": [
      "{'a': 3, 'b': 2}\n"
     ]
    }
   ],
   "source": [
    "my_dict = {'a': 1, 'b': 2}\n",
    "my_dict['a'] = 3  # Update the value of an existing key\n",
    "print(my_dict)"
   ]
  },
  {
   "cell_type": "markdown",
   "id": "52d01cb1-828b-444f-a543-027000572b92",
   "metadata": {},
   "source": [
    "## Deleting Items:\n",
    "\n",
    "### - Use the del dict[key] syntax to delete a key-value pair.\n",
    "### - If the key doesn't exist, a KeyError will be raised.\n",
    "\n",
    "## Example:"
   ]
  },
  {
   "cell_type": "code",
   "execution_count": 40,
   "id": "4c7a9ef0-8edb-4e8a-b6b5-c6a1427255a3",
   "metadata": {},
   "outputs": [
    {
     "name": "stdout",
     "output_type": "stream",
     "text": [
      "{'b': 2}\n"
     ]
    }
   ],
   "source": [
    "my_dict = {'a': 1, 'b': 2}\n",
    "del my_dict['a']  # Delete a key-value pair\n",
    "print(my_dict)"
   ]
  },
  {
   "cell_type": "markdown",
   "id": "3e63af78-f2d9-4e6e-b4e5-48f0fc80ca98",
   "metadata": {},
   "source": [
    "# Ques 8. Discuss the importance of dictionary keys being immmtable and provide examples.\n",
    "\n",
    "### Ans 8. Dictionary keys being immutable is crucial in Python because:\n",
    "\n",
    "### 1. Hashing: Immutable keys can be hashed, which allows for efficient lookup, insertion, and deletion operations in a dictionary. Hashing is the process of converting an object's value into a fixed-size integer that can be used as an index in a table.\n",
    "\n",
    "### 2. Uniqueness: Immutable keys ensure that each key is unique, which is essential for maintaining a one-to-one mapping between keys and values.\n",
    "\n",
    "### 3. Performance: Immutable keys allow for fast lookup and insertion operations, making dictionaries an efficient data structure.\n",
    "\n",
    "###Examples:\n",
    "\n",
    "## - Valid keys:"
   ]
  },
  {
   "cell_type": "code",
   "execution_count": 46,
   "id": "ac109ada-656c-482c-a134-068f3d4553cf",
   "metadata": {},
   "outputs": [
    {
     "name": "stdout",
     "output_type": "stream",
     "text": [
      "{1: 'one'}\n",
      "{1: 'one', 'a': 'alpha'}\n",
      "{1: 'one', 'a': 'alpha', (1, 2): 'pair'}\n"
     ]
    }
   ],
   "source": [
    "my_dict = {}\n",
    "my_dict[1] = \"one\"  # Integer key\n",
    "print(my_dict)\n",
    "my_dict[\"a\"] = \"alpha\"  # String key\n",
    "print(my_dict)\n",
    "my_dict[(1, 2)] = \"pair\"  # Tuple key\n",
    "print(my_dict)"
   ]
  },
  {
   "cell_type": "markdown",
   "id": "beb1dbc7-def3-43ad-a604-1785d7b45efe",
   "metadata": {},
   "source": [
    "## Invalid keys:"
   ]
  },
  {
   "cell_type": "code",
   "execution_count": 48,
   "id": "64395f4a-9ea0-452d-8354-df81b07b30e9",
   "metadata": {},
   "outputs": [
    {
     "ename": "TypeError",
     "evalue": "unhashable type: 'list'",
     "output_type": "error",
     "traceback": [
      "\u001b[1;31m---------------------------------------------------------------------------\u001b[0m",
      "\u001b[1;31mTypeError\u001b[0m                                 Traceback (most recent call last)",
      "Cell \u001b[1;32mIn[48], line 2\u001b[0m\n\u001b[0;32m      1\u001b[0m my_dict \u001b[38;5;241m=\u001b[39m {}\n\u001b[1;32m----> 2\u001b[0m \u001b[43mmy_dict\u001b[49m\u001b[43m[\u001b[49m\u001b[43m[\u001b[49m\u001b[38;5;241;43m1\u001b[39;49m\u001b[43m,\u001b[49m\u001b[43m \u001b[49m\u001b[38;5;241;43m2\u001b[39;49m\u001b[43m]\u001b[49m\u001b[43m]\u001b[49m \u001b[38;5;241m=\u001b[39m \u001b[38;5;124m\"\u001b[39m\u001b[38;5;124mlist\u001b[39m\u001b[38;5;124m\"\u001b[39m  \u001b[38;5;66;03m# List key (TypeError)\u001b[39;00m\n\u001b[0;32m      3\u001b[0m \u001b[38;5;28mprint\u001b[39m(my_dict)\n\u001b[0;32m      4\u001b[0m my_dict[{\u001b[38;5;124m\"\u001b[39m\u001b[38;5;124ma\u001b[39m\u001b[38;5;124m\"\u001b[39m: \u001b[38;5;241m1\u001b[39m}] \u001b[38;5;241m=\u001b[39m \u001b[38;5;124m\"\u001b[39m\u001b[38;5;124mdict\u001b[39m\u001b[38;5;124m\"\u001b[39m  \u001b[38;5;66;03m# Dictionary key (TypeError)\u001b[39;00m\n",
      "\u001b[1;31mTypeError\u001b[0m: unhashable type: 'list'"
     ]
    }
   ],
   "source": [
    "my_dict = {}\n",
    "my_dict[[1, 2]] = \"list\"  # List key (TypeError)\n",
    "print(my_dict)\n",
    "my_dict[{\"a\": 1}] = \"dict\"  # Dictionary key (TypeError)\n",
    "print(my_dict)"
   ]
  },
  {
   "cell_type": "code",
   "execution_count": null,
   "id": "db5c968a-994f-4ea0-ad41-9f3d0a43fd4a",
   "metadata": {},
   "outputs": [],
   "source": []
  }
 ],
 "metadata": {
  "kernelspec": {
   "display_name": "Python 3 (ipykernel)",
   "language": "python",
   "name": "python3"
  },
  "language_info": {
   "codemirror_mode": {
    "name": "ipython",
    "version": 3
   },
   "file_extension": ".py",
   "mimetype": "text/x-python",
   "name": "python",
   "nbconvert_exporter": "python",
   "pygments_lexer": "ipython3",
   "version": "3.12.5"
  }
 },
 "nbformat": 4,
 "nbformat_minor": 5
}
